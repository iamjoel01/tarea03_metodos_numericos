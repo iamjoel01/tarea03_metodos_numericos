{
 "cells": [
  {
   "cell_type": "raw",
   "id": "fdd8c900-b804-48d0-83b7-861811fd9e78",
   "metadata": {},
   "source": [
    "---\n",
    "title: \"Escuela Politécnica Nacional\"  \n",
    "subtitle: \"Metodos Numericos - Preparación visita 01\"\n",
    "author: \"Quilumba Morocho Joel Patricio \"\n",
    "date: \"2024-05-21\"\n",
    "format:\n",
    "  pdf:\n",
    "    toc: True\n",
    "    number-sections: true\n",
    "    colorlinks: true\n",
    "    lang: \"es\"\n",
    "---"
   ]
  },
  {
   "cell_type": "markdown",
   "id": "9bfaa639-e473-4a5b-8861-ce63a36405a1",
   "metadata": {},
   "source": [
    "‎ ‎ ‎ ‎ ‎ \n",
    "‎ ‎ ‎ ‎ ‎ \n",
    "‎ ‎ ‎ ‎ ‎   \n",
    "‎ ‎ ‎ ‎ ‎   \n",
    "‎ ‎ ‎ ‎ ‎ \n",
    "‎ ‎ ‎ ‎ ‎   \n",
    "‎ ‎ ‎ ‎ ‎   \n",
    "‎ ‎ ‎ ‎ ‎   \n",
    "‎ ‎ ‎ ‎ ‎   "
   ]
  },
  {
   "cell_type": "markdown",
   "id": "1917668f-5f87-4e7f-9f85-3e688286f546",
   "metadata": {},
   "source": [
    "# Conjunto De Ejercicios 1.3"
   ]
  },
  {
   "cell_type": "markdown",
   "id": "8d20237a-4cbc-4421-b295-fc7f21f15d6f",
   "metadata": {},
   "source": [
    "## 1. Utilice aritmética de corte de tres dígitos para calcular las siguientes sumas. Para cada parte, ¿qué método es más preciso y por qué?"
   ]
  },
  {
   "cell_type": "markdown",
   "id": "6eb98abc-3609-48fc-bc70-e746de6681ab",
   "metadata": {},
   "source": [
    "a. $\\sum_{i=1}^{10}\\left ( \\frac{1}{i^2} \\right )$ primero por $\\left ( \\frac{1}{1} +\\frac{1}{4} + .... \\frac{1}{100}  \\right )$ y luego por $\\left ( \\frac{1}{100} +\\frac{1}{81} + .... \\frac{1}{1}  \\right )$  \n",
    "\n",
    "\n"
   ]
  },
  {
   "cell_type": "code",
   "execution_count": 14,
   "id": "17b4d700-dddb-45d9-836c-ef3fbfe74e69",
   "metadata": {
    "tags": []
   },
   "outputs": [],
   "source": [
    "def SumatoriaAcendente(num):\n",
    "    res = 0\n",
    "    for i in range(10):\n",
    "        res += 1 / ((i+1)**num)\n",
    "    return round(res,5)\n"
   ]
  },
  {
   "cell_type": "code",
   "execution_count": 15,
   "id": "61569f85-92f0-4d21-a567-de63598ba387",
   "metadata": {
    "tags": []
   },
   "outputs": [],
   "source": [
    "def SumatoriaDecendente(num):\n",
    "    res = 0\n",
    "    for i in range(10, 0, -1):\n",
    "        res += 1 / (i**num)\n",
    "    return round(res,5)"
   ]
  },
  {
   "cell_type": "code",
   "execution_count": 16,
   "id": "f8336b0a-c636-4920-8538-1211a6f74a9f",
   "metadata": {
    "tags": []
   },
   "outputs": [
    {
     "name": "stdout",
     "output_type": "stream",
     "text": [
      "Resultado 1:  1.54977\n",
      "Resultado 2:  1.54977\n"
     ]
    }
   ],
   "source": [
    "## literal A\n",
    "print(\"Resultado 1: \",SumatoriaAcendente(2))\n",
    "print(\"Resultado 2: \",SumatoriaDecendente(2))"
   ]
  },
  {
   "cell_type": "markdown",
   "id": "48889eec-2c65-4e75-b020-c578c1cd6526",
   "metadata": {},
   "source": [
    "b. $\\sum_{i=1}^{10}\\left ( \\frac{1}{i^3} \\right )$ primero por $\\left ( \\frac{1}{1} +\\frac{1}{8}+\\frac{1}{27} + .... \\frac{1}{1000}  \\right )$ y luego por $\\left ( \\frac{1}{1000} +\\frac{1}{729} + .... \\frac{1}{1}  \\right )$\n"
   ]
  },
  {
   "cell_type": "code",
   "execution_count": 17,
   "id": "43b422d5-c00e-4f13-a2f6-3f5b55967a24",
   "metadata": {
    "tags": []
   },
   "outputs": [
    {
     "name": "stdout",
     "output_type": "stream",
     "text": [
      "Resultado 1:  1.19753\n",
      "Resultado 2:  1.19753\n"
     ]
    }
   ],
   "source": [
    "## literal B\n",
    "print(\"Resultado 1: \",SumatoriaAcendente(3))\n",
    "print(\"Resultado 2: \",SumatoriaDecendente(3))"
   ]
  },
  {
   "cell_type": "markdown",
   "id": "e16f60f4-4f45-475a-adf6-69df7d1e1b4b",
   "metadata": {},
   "source": [
    "‎  \n",
    "‎   \n",
    "‎   \n",
    "‎   \n"
   ]
  },
  {
   "cell_type": "markdown",
   "id": "2d22b982-221d-484b-85c0-e236484e2a4a",
   "metadata": {},
   "source": [
    "## 2. La serie de Maclaurin para la función arcotangente converge para $−1 < 𝑥 ≤ 1$ y está dada por\n",
    "\n",
    "$$\\arctan x = \\lim_{n \\to \\infty} P_n(x) = \\sum_{i=1}^{n} (-1)^{i+1} \\frac{ x^{2i-1}}{2i-1}$$"
   ]
  },
  {
   "cell_type": "markdown",
   "id": "88d26420-36b0-4754-90fb-d5ba6c119e65",
   "metadata": {},
   "source": [
    "a. Utilice el hecho de que tan $\\frac{𝜋}{4} = 1$ para determinar el número n de términos de la serie que se necesita sumar para garantizar que |4𝑃𝑛(1) − 𝜋| < 10−3  \n",
    "b. El lenguaje de programación C++ requiere que el valor de 𝜋 se encuentre dentro de 10−10. ¿Cuántos términos de la serie se necesitarían sumar para obtener este grado de precisión?\n"
   ]
  },
  {
   "cell_type": "code",
   "execution_count": 5,
   "id": "bc8bbe07-bd4b-40e5-8dd6-0cb817d639b1",
   "metadata": {
    "tags": []
   },
   "outputs": [
    {
     "name": "stdout",
     "output_type": "stream",
     "text": [
      "Número de términos necesarios para garantizar |4P_n(1) - π| < 10^-3: 1000\n"
     ]
    }
   ],
   "source": [
    "import math\n",
    "pi = math.pi \n",
    "def arctan_series(x, n):\n",
    "    result = 0\n",
    "    for i in range(1, n+1):\n",
    "        result += ((-1)**(i+1) * (x**(2*i-1))) / (2*i-1)\n",
    "    return result\n",
    "n = 1\n",
    "while True:\n",
    "    approx_pi = 4 * arctan_series(1, n)\n",
    "    if abs(approx_pi - pi) < 10**(-3):\n",
    "        break\n",
    "    n += 1\n",
    "print(\"Número de términos necesarios para garantizar |4P_n(1) - π| < 10^-3:\", n)"
   ]
  },
  {
   "cell_type": "markdown",
   "id": "dbba5a4f-67d3-421d-9d77-2c8d848a21b5",
   "metadata": {},
   "source": [
    "‎  \n",
    "‎   \n",
    "‎   \n",
    "‎   \n"
   ]
  },
  {
   "cell_type": "markdown",
   "id": "0706e688-df87-4956-b3ae-b8fdf7a6dad7",
   "metadata": {},
   "source": [
    "‎  \n",
    "‎   \n",
    "‎   \n",
    "‎   \n"
   ]
  },
  {
   "cell_type": "markdown",
   "id": "63df879f-a091-4f36-868e-a3fc53205dc8",
   "metadata": {},
   "source": [
    "## 3. Otra fórmula para calcular $𝜋$ se puede deducir a partir de la identidad $\\frac{𝜋}{4} = 4 arctan \\frac{1}{5}− arctan \\frac{1}{239}$\n",
    "Determine el número de términos que se deben sumar para garantizar una aproximación 𝜋 dentro de $10^−3$ "
   ]
  },
  {
   "cell_type": "code",
   "execution_count": 40,
   "id": "75f02d4b-3aa3-4d2f-9db1-b36e8b7559eb",
   "metadata": {},
   "outputs": [
    {
     "name": "stdout",
     "output_type": "stream",
     "text": [
      "El numero de terminos es : 2\n"
     ]
    }
   ],
   "source": [
    "import math\n",
    "def calculate_pi_epsilon(epsilon):\n",
    "    n = 1\n",
    "    pi_approx = 0\n",
    "    term_1 = 1 / 5\n",
    "    term_2 = 1 / 239\n",
    "    \n",
    "    while abs(pi_approx - math.pi) >= epsilon:\n",
    "        pi_approx = 4 * (4 * sum_series_maclaurin(1 / 5, n) - sum_series_maclaurin(1 / 239, n))\n",
    "        n += 1\n",
    "    \n",
    "    return n - 1\n",
    "\n",
    "def sum_series_maclaurin(x, terms):\n",
    "    total_sum = 0\n",
    "    for i in range(1, terms + 1):\n",
    "        total_sum += (-1)**(i + 1) * x**(2 * i - 1) / (2 * i - 1)\n",
    "    return total_sum\n",
    "\n",
    "n_terms = calculate_pi_epsilon(1e-3)\n",
    "print(f\"El numero de terminos es : {n_terms}\")"
   ]
  },
  {
   "cell_type": "markdown",
   "id": "8f290427-ea9a-4d7c-87b0-0ab79cd4e5bd",
   "metadata": {},
   "source": [
    "‎  \n",
    "‎   \n",
    "‎   \n",
    "‎   \n"
   ]
  },
  {
   "cell_type": "markdown",
   "id": "09a30e32-5985-497e-a912-11a35b905891",
   "metadata": {},
   "source": [
    "‎  \n",
    "‎   \n",
    "‎   \n",
    "‎   \n"
   ]
  },
  {
   "cell_type": "markdown",
   "id": "275234c7-7553-42fd-94be-c139053d599c",
   "metadata": {},
   "source": [
    "## 4. Compare los siguientes tres algoritmos. ¿Cuándo es correcto el algoritmo de la parte 1a?"
   ]
  },
  {
   "cell_type": "markdown",
   "id": "35286bd6-5959-45d5-b2e5-20e4c3bef0e2",
   "metadata": {},
   "source": [
    "* a.  \n",
    "ENTRADA $𝑛, 𝑥1, 𝑥2, ⋯ , 𝑥𝑛$.  \n",
    "SALIDA PRODUCT.  \n",
    "Paso 1 Determine PRODUCT = 0.  \n",
    "Paso 2 Para $𝑖 = 1, 2, ⋯ , 𝑛$ haga  \n",
    "    Determine PRODUCT = PRODUCT ∗ $𝑥𝑖$.  \n",
    "Paso 3 SALIDA PRODUCT;  \n",
    "    PARE.  "
   ]
  },
  {
   "cell_type": "code",
   "execution_count": 25,
   "id": "03622438-f913-43bc-b5b2-512f57a3ed9b",
   "metadata": {
    "tags": []
   },
   "outputs": [
    {
     "name": "stdout",
     "output_type": "stream",
     "text": [
      "Resultado : 0\n"
     ]
    }
   ],
   "source": [
    "def algoritmo_a (num):\n",
    "    resultado=0\n",
    "    for i in range(num,1):\n",
    "        resultado*=i\n",
    "    return resultado\n",
    "\n",
    "print(\"Resultado :\",algoritmo_a(5))"
   ]
  },
  {
   "cell_type": "markdown",
   "id": "6485fb53-a8f3-4bb3-80c4-2b3f05daa80f",
   "metadata": {},
   "source": [
    "* b.  \n",
    "ENTRADA $𝑛, 𝑥1, 𝑥2, ⋯ , 𝑥𝑛.$  \n",
    "SALIDA PRODUCT.  \n",
    "Paso 1 Determine PRODUCT $= 1.$  \n",
    "Paso 2 Para $𝑖 = 1, 2, ⋯ , 𝑛$ haga  \n",
    "    Set PRODUCT = PRODUCT $∗ 𝑥𝑖$.  \n",
    "Paso 3 SALIDA PRODUCT;  \n",
    "    PARE.  "
   ]
  },
  {
   "cell_type": "code",
   "execution_count": 32,
   "id": "4017a1c5-0b5b-437a-9934-9fd933635a86",
   "metadata": {
    "tags": []
   },
   "outputs": [
    {
     "name": "stdout",
     "output_type": "stream",
     "text": [
      "Resultado : 1\n"
     ]
    }
   ],
   "source": [
    "def algoritmo_b(num):\n",
    "    resultado=1\n",
    "    for i in range(num,1):\n",
    "        resultado*=i\n",
    "    return resultado\n",
    "print(\"Resultado :\",algoritmo_b(5))"
   ]
  },
  {
   "cell_type": "markdown",
   "id": "58ee633f-e766-433c-aac1-1263be14dc0f",
   "metadata": {},
   "source": [
    "- c.  \n",
    "ENTRADA $𝑛, 𝑥1, 𝑥2, ⋯ , 𝑥𝑛$.  \n",
    "SALIDA PRODUCT.  \n",
    "Paso 1 Determine PRODUCT $= 1$.  \n",
    "Paso 2 Para $𝑖 = 1, 2, ⋯ , 𝑛$ haga    \n",
    "    si $𝑥𝑖 = 0$ entonces determine PRODUCT $= 0$;  \n",
    "        SALIDA PRODUCT;  \n",
    "        PARE  \n",
    "    Determine PRODUCT = PRODUCT $∗ 𝑥𝑖$.  \n",
    "Paso 3 SALIDA PRODUCT;  \n",
    "    PARE.  "
   ]
  },
  {
   "cell_type": "code",
   "execution_count": 34,
   "id": "13752719-ad95-40b5-863b-1253794604d6",
   "metadata": {},
   "outputs": [
    {
     "name": "stdout",
     "output_type": "stream",
     "text": [
      "Resultado : 1\n"
     ]
    }
   ],
   "source": [
    "def algoritmo_c(num):\n",
    "    resultado=1\n",
    "    if num==0:\n",
    "        return 0\n",
    "    else:\n",
    "        for i in range(num,1):\n",
    "            resultado*=i\n",
    "    return resultado\n",
    "\n",
    "print(\"Resultado :\",algoritmo_c(5))"
   ]
  },
  {
   "cell_type": "markdown",
   "id": "f6eedfd9-9ff4-46b3-9dbf-64459e3fea39",
   "metadata": {},
   "source": [
    "Algoritmo a es incorrecto para cualquier propósito práctico de calcular un producto denúmeros.  \n",
    "Algoritmo b es correcto y calcula el producto de una lista de números correctamente.  \n",
    "Algoritmo c es también correcto y más eficiente en presencia de ceros, ya que termina temprano si encuentra un 0."
   ]
  },
  {
   "cell_type": "markdown",
   "id": "90a766d7-9ad4-4c5c-9845-ab0aea15d94b",
   "metadata": {},
   "source": [
    "## 5 a. ¿Cuántas multiplicaciones y sumas se requieren para determinar una suma de la forma?\n",
    "$$\\sum_{i=1}^{n} \\sum_{j=1}^{i} (a_{i} b_{j})$$\n",
    "b. Modifique la suma en la parte a) a un formato equivalente que reduzca el número de cálculo"
   ]
  },
  {
   "cell_type": "code",
   "execution_count": 43,
   "id": "e12dfbcf-0fae-4b5a-a8fd-48f02ca2244d",
   "metadata": {
    "tags": []
   },
   "outputs": [
    {
     "name": "stdout",
     "output_type": "stream",
     "text": [
      "Para la suma original:\n",
      "Total de multiplicaciones necesarias: 15\n",
      "Total de sumas necesarias: 15\n",
      "\n",
      "Para la suma modificada:\n",
      "Total de multiplicaciones necesarias: 15\n",
      "Total de sumas necesarias: 5\n"
     ]
    }
   ],
   "source": [
    "def operaciones_para_suma_original(n):\n",
    "    multiplicaciones = n * (n + 1) // 2\n",
    "    sumas = n * (n + 1) // 2\n",
    "    return multiplicaciones, sumas\n",
    "\n",
    "def operaciones_para_suma_modificada(n):\n",
    "    multiplicaciones = n * (n + 1) // 2\n",
    "    sumas = n\n",
    "    return multiplicaciones, sumas\n",
    "\n",
    "n = 5 \n",
    "\n",
    "# Literal a\n",
    "mult_orig, sumas_orig = operaciones_para_suma_original(n)\n",
    "print(\"Para la suma original:\")\n",
    "print(\"Total de multiplicaciones necesarias:\", mult_orig)\n",
    "print(\"Total de sumas necesarias:\", sumas_orig)\n",
    "\n",
    "# Literal b\n",
    "mult_modif, sumas_modif = operaciones_para_suma_modificada(n)\n",
    "print(\"\\nPara la suma modificada:\")\n",
    "print(\"Total de multiplicaciones necesarias:\", mult_modif)\n",
    "print(\"Total de sumas necesarias:\", sumas_modif)"
   ]
  },
  {
   "cell_type": "markdown",
   "id": "b4347e96-8e34-4504-80e7-8607d2ef40d1",
   "metadata": {},
   "source": [
    "Es decir que\n",
    "- Para las multiplicaciones:  \n",
    "Para i=1, tenemos 1 multiplicaciones :  $a_{1} b_{1}$  \n",
    "Para i=2, tenemos 2 multiplicaciones: $a_{2}b_{1}  a_{2}b_{2}$  \n",
    "Para i=n, tenemos n multiplicaciones: $a_{n}b_{1}, a_{n}b_{2} … a_{n}b_{n}$  \n",
    "Por tanto, se requieren  $\\frac{n(n+1)}{2}$ multiplicaciones\n",
    "\n",
    "* Para las Sumas:  \n",
    "Para i=1, no hay simas adicionales porque solo hay un término.   \n",
    "Para i=2, se suma dos términos lo que implica 1 suma  \n",
    "Para i=n, se suma tres términos lo que implica 2 sumas  \n",
    "Por tanto, se requieren  $\\frac{n(n-1)}{2}$ multiplicaciones  \n"
   ]
  },
  {
   "cell_type": "markdown",
   "id": "e16dc483-e23f-4b09-9b40-b74e4b23b8f1",
   "metadata": {},
   "source": [
    "# Discusiones"
   ]
  },
  {
   "cell_type": "markdown",
   "id": "db082ba8-f06c-4749-9079-61c6cbf1fa3e",
   "metadata": {
    "tags": []
   },
   "source": [
    "## 1. Escriba un algoritmo para sumar la serie finita $\\sum_{i=1}^{n} x^i$ en orden inverso.\n"
   ]
  },
  {
   "cell_type": "code",
   "execution_count": 44,
   "id": "d35cf5e9-e31c-4653-9a54-3f23035100b3",
   "metadata": {
    "tags": []
   },
   "outputs": [],
   "source": [
    "def Algo1(num):\n",
    "    res=0\n",
    "    for i in range(num,0,-1):\n",
    "        res+=i\n",
    "    return res"
   ]
  },
  {
   "cell_type": "markdown",
   "id": "065c4c45-43e3-4fac-aa4a-5bbad103f4ba",
   "metadata": {},
   "source": [
    "## 2. Las ecuaciones (1.2) y (1.3) en la sección 1.2 proporcionan formas alternativas para las raíces 𝑥1 y 𝑥2 de 𝑎𝑥^2 + 𝑏𝑥 + 𝑐 = 0. Construya un algoritmo con entrada 𝑎, 𝑏, 𝑐 c y salida 𝑥1, 𝑥2 que calcule las raíces 𝑥1 y 𝑥2 que pueden ser iguales con conjugados complejos) mediante la mejor fórmula para cada raíz.\n"
   ]
  },
  {
   "cell_type": "code",
   "execution_count": 5,
   "id": "98836477-b68a-48d5-9751-299d1cdb6298",
   "metadata": {
    "tags": []
   },
   "outputs": [],
   "source": [
    "import cmath\n",
    "\n",
    "def calcular_raices(a, b, c):\n",
    "    # Calcula el discriminante\n",
    "    discriminante = b**2 - 4*a*c\n",
    "    \n",
    "    # Calcula las raíces\n",
    "    if discriminante > 0:\n",
    "        raiz1 = (-b + discriminante**0.5) / (2*a)\n",
    "        raiz2 = (-b - discriminante**0.5) / (2*a)\n",
    "    elif discriminante == 0:\n",
    "        raiz1 = raiz2 = -b / (2*a)\n",
    "    else:\n",
    "        parte_real = -b / (2*a)\n",
    "        parte_imaginaria = cmath.sqrt(abs(discriminante)) / (2*a)\n",
    "        raiz1 = parte_real + parte_imaginaria * 1j\n",
    "        raiz2 = parte_real - parte_imaginaria * 1j\n",
    "    \n",
    "    return raiz1, raiz2"
   ]
  },
  {
   "cell_type": "code",
   "execution_count": 6,
   "id": "8489b07c-0bdb-4ede-ab32-3cf679ff0695",
   "metadata": {
    "tags": []
   },
   "outputs": [
    {
     "name": "stdout",
     "output_type": "stream",
     "text": [
      "Raíz 1: 2.0\n",
      "Raíz 2: 1.0\n"
     ]
    }
   ],
   "source": [
    "\n",
    "raiz1, raiz2 = calcular_raices(1, -3, 2)\n",
    "print(\"Raíz 1:\", raiz1)\n",
    "print(\"Raíz 2:\", raiz2)"
   ]
  },
  {
   "cell_type": "markdown",
   "id": "a3bb5028-4cc2-4d35-a170-aa38834a2acc",
   "metadata": {},
   "source": [
    "## 3. Suponga que  \n",
    "$\\frac{1 - 2x}{1 - x + x^2} + \\frac{2x - 4x^3}{1 - x^2 + x^4} + \\frac{4x^3 - 8x^7}{1 - x^4 + x^8} + \\cdots = \\frac{1 + 2x}{1 + x + x^2}$     \n",
    "\n",
    "\n",
    "para 𝑥 < 1 y si 𝑥 = 0.25. Escriba y ejecute un algoritmo que determine el número de términos necesarios en \n",
    "el lado izquierdo de la ecuación de tal forma que el lado izquierd  difiera del lado derecho en menos de 10−.\n",
    "."
   ]
  },
  {
   "cell_type": "code",
   "execution_count": null,
   "id": "5c08e59b-6de7-411c-9b7a-f9d5861ffbc6",
   "metadata": {},
   "outputs": [],
   "source": [
    "def series_difference(x, epsilon):\n",
    "    n = 1\n",
    "    left_side = (1 - 2 * x) / (1 - x + x**2)\n",
    "    right_side = (1 + 2 * x) / (1 + x + x**2)\n",
    "    term = (2 * x) / (1 - x + x**2)\n",
    "    difference = abs(left_side - right_side)\n",
    "    \n",
    "    while difference >= epsilon:\n",
    "        left_side += term\n",
    "        term *= 2 * x\n",
    "        n += 1\n",
    "        difference = abs(left_side - right_side)\n",
    "    \n",
    "    return n\n",
    "\n",
    "x = 0.25\n",
    "epsilon = 1e-6\n",
    "n_terms = series_difference(x, epsilon)\n",
    "print(f\"Number of terms needed: {n_terms}\")\n"
   ]
  },
  {
   "cell_type": "code",
   "execution_count": null,
   "id": "96667035-59cb-4e25-9893-f4b193e106e2",
   "metadata": {},
   "outputs": [],
   "source": []
  }
 ],
 "metadata": {
  "kernelspec": {
   "display_name": "Python 3 (ipykernel)",
   "language": "python",
   "name": "python3"
  },
  "language_info": {
   "codemirror_mode": {
    "name": "ipython",
    "version": 3
   },
   "file_extension": ".py",
   "mimetype": "text/x-python",
   "name": "python",
   "nbconvert_exporter": "python",
   "pygments_lexer": "ipython3",
   "version": "3.11.7"
  }
 },
 "nbformat": 4,
 "nbformat_minor": 5
}
